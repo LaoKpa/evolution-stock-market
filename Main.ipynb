{
 "cells": [
  {
   "cell_type": "code",
   "execution_count": 17,
   "metadata": {},
   "outputs": [
    {
     "name": "stdout",
     "output_type": "stream",
     "text": [
      "[{\"symbol\":\"AAPL\",\"sector\":\"electronictechnology\",\"securityType\":\"cs\",\"bidPrice\":183.55,\"bidSize\":100,\"askPrice\":188.81,\"askSize\":100,\"lastUpdated\":1553109421413,\"lastSalePrice\":188.775,\"lastSaleSize\":100,\"lastSaleTime\":1553109420947,\"volume\":611441}]\n"
     ]
    }
   ],
   "source": [
    "import requests\n",
    "TOKEN = \"pk_18e2ba4b80cb471aa96ba58fadec6b05\" # edit if using your own account\n",
    "query = {\"token\": TOKEN, \"symbols\": \"aapl\"}\n",
    "r = requests.get(\"https://cloud.iexapis.com/beta/tops?\", params=query)\n",
    "print(r.text)"
   ]
  },
  {
   "cell_type": "code",
   "execution_count": 5,
   "metadata": {},
   "outputs": [
    {
     "ename": "SyntaxError",
     "evalue": "invalid syntax (<ipython-input-5-c840f24952b4>, line 1)",
     "output_type": "error",
     "traceback": [
      "\u001b[0;36m  File \u001b[0;32m\"<ipython-input-5-c840f24952b4>\"\u001b[0;36m, line \u001b[0;32m1\u001b[0m\n\u001b[0;31m    from googlefinance-client-python/googlefinance/client.py import get_price_data\u001b[0m\n\u001b[0m                      ^\u001b[0m\n\u001b[0;31mSyntaxError\u001b[0m\u001b[0;31m:\u001b[0m invalid syntax\n"
     ]
    }
   ],
   "source": []
  },
  {
   "cell_type": "code",
   "execution_count": null,
   "metadata": {},
   "outputs": [],
   "source": []
  }
 ],
 "metadata": {
  "kernelspec": {
   "display_name": "Python 3",
   "language": "python",
   "name": "python3"
  },
  "language_info": {
   "codemirror_mode": {
    "name": "ipython",
    "version": 3
   },
   "file_extension": ".py",
   "mimetype": "text/x-python",
   "name": "python",
   "nbconvert_exporter": "python",
   "pygments_lexer": "ipython3",
   "version": "3.7.0"
  }
 },
 "nbformat": 4,
 "nbformat_minor": 2
}
