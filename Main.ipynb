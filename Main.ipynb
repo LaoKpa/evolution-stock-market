{
 "cells": [
  {
   "cell_type": "code",
   "execution_count": null,
   "metadata": {},
   "outputs": [],
   "source": [
    "'''\n",
    "we will try to predict a stock's open price in a week\n",
    "'''"
   ]
  },
  {
   "cell_type": "code",
   "execution_count": 32,
   "metadata": {},
   "outputs": [
    {
     "name": "stdout",
     "output_type": "stream",
     "text": [
      "[[1.94400000e+01 2.06800000e+01 1.90000000e+01 2.05700000e+01\n",
      "  1.07157014e+08 2.04000000e+01]\n",
      " [2.11900000e+01 2.12000000e+01 1.96800000e+01 2.07500000e+01\n",
      "  1.21270986e+08 1.94900000e+01]\n",
      " [2.08900000e+01 2.14400000e+01 2.00700000e+01 2.01900000e+01\n",
      "  1.63944073e+08 2.03700000e+01]\n",
      " ...\n",
      " [1.26660000e+02 1.27700000e+02 1.25070000e+02 1.26640000e+02\n",
      "  4.20203000e+06 1.22500000e+02]\n",
      " [1.27030000e+02 1.27260000e+02 1.19860000e+02 1.22810000e+02\n",
      "  6.24916100e+06 1.23000000e+02]\n",
      " [1.22380000e+02 1.24220000e+02 1.22070000e+02 1.22950000e+02\n",
      "  2.39522200e+06 1.23200000e+02]]\n",
      "[[1.94400000e+01 2.06800000e+01 1.90000000e+01 2.05700000e+01\n",
      "  1.07157014e+08 2.04000000e+01]\n",
      " [2.11900000e+01 2.12000000e+01 1.96800000e+01 2.07500000e+01\n",
      "  1.21270986e+08 1.94900000e+01]\n",
      " [2.08900000e+01 2.14400000e+01 2.00700000e+01 2.01900000e+01\n",
      "  1.63944073e+08 2.03700000e+01]\n",
      " ...\n",
      " [1.27030000e+02 1.27260000e+02 1.19860000e+02 1.22810000e+02\n",
      "  6.24916100e+06 1.23000000e+02]\n",
      " [1.22380000e+02 1.24220000e+02 1.22070000e+02 1.22950000e+02\n",
      "  2.39522200e+06 1.23200000e+02]\n",
      " [1.26100000e+02 1.27290000e+02 1.25650000e+02 1.27060000e+02\n",
      "  2.67407700e+06 1.25910000e+02]]\n"
     ]
    }
   ],
   "source": [
    "'''\n",
    "obtain and format data (stock information for 38 tech companies over last 3 months, ending yesterday)\n",
    "'''\n",
    "\n",
    "import requests\n",
    "import random\n",
    "import numpy as np\n",
    "\n",
    "TOKEN = \"pk_18e2ba4b80cb471aa96ba58fadec6b05\" # edit if using your own IEX account\n",
    "SYMBOLS = \"\"\"abde,amd,googl,goog,adi,aapl,amat,asml,adsk,bidu,\n",
    "    avgo,cdns,cern,chkp,csco,ctxs,fb,intc,intu,klac,\n",
    "    lrcx,mxim,mchp,mu,msft,ntap,ntes,nvda,nxpi,qcom,\n",
    "    swks,symc,snps,txn,vrsn,wdc,wday,xlnx\"\"\"\n",
    "TYPES = \"chart\"\n",
    "RANGE = \"3m\"\n",
    "\n",
    "query = {\"token\": TOKEN, \"symbols\": SYMBOLS, \"types\": TYPES, \"range\": RANGE}\n",
    "r = requests.get(\"https://cloud.iexapis.com/beta/stock/market/batch\", params=query)\n",
    "\n",
    "dict = r.json()\n",
    "\n",
    "NUM_DAYS = 50 # a little less than 3 months\n",
    "NUM_TRAINING_DAYS = 40\n",
    "\n",
    "training_data = np.array([0, 0, 0, 0, 0, 0]) # python is weird\n",
    "testing_data = np.array([0, 0, 0, 0, 0, 0])\n",
    "    \n",
    "for symbol in dict:\n",
    "    for i in range(NUM_DAYS):\n",
    "        openPrice = dict[symbol][\"chart\"][i][\"open\"] # open is a keyword\n",
    "        high = dict[symbol][\"chart\"][i][\"high\"]\n",
    "        low = dict[symbol][\"chart\"][i][\"low\"]\n",
    "        close = dict[symbol][\"chart\"][i][\"close\"]\n",
    "        volume = dict[symbol][\"chart\"][i][\"volume\"]\n",
    "        predicted_price = dict[symbol][\"chart\"][i + 7][\"open\"]\n",
    "\n",
    "        if i < NUM_TRAINING_DAYS:\n",
    "            training_data = np.vstack([training_data, [openPrice, high, low, close, volume, predicted_price]])\n",
    "        else:\n",
    "            testing_data = np.vstack([training_data, [openPrice, high, low, close, volume, predicted_price]])\n",
    "\n",
    "    \n",
    "training_data = training_data[1::]\n",
    "testing_data = testing_data[1::]\n",
    "print(training_data)\n",
    "print(testing_data)"
   ]
  },
  {
   "cell_type": "code",
   "execution_count": 8,
   "metadata": {},
   "outputs": [
    {
     "ename": "TypeError",
     "evalue": "'type' object is not iterable",
     "output_type": "error",
     "traceback": [
      "\u001b[0;31m---------------------------------------------------------------------------\u001b[0m",
      "\u001b[0;31mTypeError\u001b[0m                                 Traceback (most recent call last)",
      "\u001b[0;32m<ipython-input-8-f6621a9d4a4d>\u001b[0m in \u001b[0;36m<module>\u001b[0;34m\u001b[0m\n\u001b[1;32m      8\u001b[0m \u001b[0mtesting_data\u001b[0m \u001b[0;34m=\u001b[0m \u001b[0mnp\u001b[0m\u001b[0;34m.\u001b[0m\u001b[0marray\u001b[0m\u001b[0;34m(\u001b[0m\u001b[0;34m[\u001b[0m\u001b[0;36m0\u001b[0m\u001b[0;34m,\u001b[0m \u001b[0;36m0\u001b[0m\u001b[0;34m,\u001b[0m \u001b[0;36m0\u001b[0m\u001b[0;34m,\u001b[0m \u001b[0;36m0\u001b[0m\u001b[0;34m,\u001b[0m \u001b[0;36m0\u001b[0m\u001b[0;34m,\u001b[0m \u001b[0;36m0\u001b[0m\u001b[0;34m,\u001b[0m \u001b[0;36m0\u001b[0m\u001b[0;34m]\u001b[0m\u001b[0;34m)\u001b[0m\u001b[0;34m\u001b[0m\u001b[0m\n\u001b[1;32m      9\u001b[0m \u001b[0;34m\u001b[0m\u001b[0m\n\u001b[0;32m---> 10\u001b[0;31m \u001b[0;32mfor\u001b[0m \u001b[0msymbol\u001b[0m \u001b[0;32min\u001b[0m \u001b[0mdict\u001b[0m\u001b[0;34m:\u001b[0m\u001b[0;34m\u001b[0m\u001b[0m\n\u001b[0m\u001b[1;32m     11\u001b[0m     \u001b[0mopenPrice\u001b[0m \u001b[0;34m=\u001b[0m \u001b[0mdict\u001b[0m\u001b[0;34m[\u001b[0m\u001b[0msymbol\u001b[0m\u001b[0;34m]\u001b[0m\u001b[0;34m[\u001b[0m\u001b[0;34m\"chart\"\u001b[0m\u001b[0;34m]\u001b[0m\u001b[0;34m\u001b[0m\u001b[0m\n\u001b[1;32m     12\u001b[0m \u001b[0;34m\u001b[0m\u001b[0m\n",
      "\u001b[0;31mTypeError\u001b[0m: 'type' object is not iterable"
     ]
    }
   ],
   "source": []
  },
  {
   "cell_type": "code",
   "execution_count": 7,
   "metadata": {},
   "outputs": [],
   "source": [
    "'''\n",
    "genetic algorithm for stock market data\n",
    "credits to MorvanZhou: https://github.com/yuanlairucisky/MorvanZhou-Evolutionary-Algorithm\n",
    "'''\n",
    "class Genetic_Algorithm:\n",
    "\n",
    "\n",
    "    # Get stock training data\n",
    "    def __init__(self, train_data, DNA_SIZE = 10, POP_SIZE = 100, CROSS_RATE = 0.75, MUTATION_RATE = 0.01, N_GENERATIONS = 200):\n",
    "        #Define constants for algorithm\n",
    "        self.DNA_SIZE = DNA_SIZE # Number of input variables\n",
    "        self.POP_SIZE = POP_SIZE # Number of models in current generation\n",
    "        self.CROSS_RATE = CROSS_RATE # Probability of crossover event\n",
    "        self.MUTATION_RATE = MUTATION_RATE # Probability of a mutation occuring\n",
    "        self.N_GENERATIONS = N_GENERATIONS # Number of generations in algorithm\n",
    "        self.input_data = train_data[:,0:DNA_SIZE]\n",
    "        self.output_data = train_data[:,DNA_SIZE:DNA_SIZE + 1]\n",
    "        self.NUM_EXAMPLES = self.input_data.shape[0]\n",
    "\n",
    "    # Find fitness for selection\n",
    "    def get_fitness_one(self,calculated_out, real_out):\n",
    "        reciporocal_reals = 1. / real_out\n",
    "        averaging_factor = 1. / self.NUM_EXAMPLES\n",
    "        fitness_array = np.absolute(1 - (averaging_factor * np.matmul(calculated_out, reciporocal_reals)))\n",
    "        return fitness_array\n",
    "    \n",
    "    # Get predicted values of models\n",
    "    def translateDNA(self,pop):\n",
    "        transposed_input = np.transpose(self.input_data)\n",
    "        return np.matmul(pop,transposed_input)\n",
    "\n",
    "    # Get next generation based on fitness values\n",
    "    def select(self,pop, fitness):\n",
    "        fitness_array = np.transpose(fitness)\n",
    "        selected_indexes = fitness_array.argsort()[-self.POP_SIZE:][::-1]\n",
    "        selected_pop = pop[selected_indexes,:]\n",
    "        return selected_pop\n",
    "\n",
    "    # Crossover process\n",
    "    def crossover(self,parent, pop):\n",
    "        if np.random.rand() < self.CROSS_RATE: # Ensures crossover happens at crossover rate\n",
    "            i_ = np.random.randint(0, self.POP_SIZE, size=1) # Select another individual from pop\n",
    "            cross_points = np.random.randint(0, 2, size=self.DNA_SIZE).astype(np.bool) # Choose crossover points\n",
    "            parent[cross_points] = pop[i_, cross_points] # Mating and produce one child\n",
    "        return parent\n",
    "\n",
    "\n",
    "    def mutate(self,pop): # Mutation Process\n",
    "        for child in pop:\n",
    "            for point in range(self.DNA_SIZE):\n",
    "                if np.random.rand() < self.MUTATION_RATE: # Ensures mutation happens at mutation rate\n",
    "                    if np.random.rand() < 0.5: # TODO: make a parameter\n",
    "                        child[point] += 0.5\n",
    "                    else:\n",
    "                        child[point] -= 0.5\n",
    "        return pop\n"
   ]
  },
  {
   "cell_type": "code",
   "execution_count": 8,
   "metadata": {},
   "outputs": [
    {
     "name": "stdout",
     "output_type": "stream",
     "text": [
      "Most fit model: [1 1 1 1 1 0]\n"
     ]
    },
    {
     "ename": "IndexError",
     "evalue": "boolean index did not match indexed array along dimension 1; dimension is 100 but corresponding boolean dimension is 6",
     "output_type": "error",
     "traceback": [
      "\u001b[0;31m---------------------------------------------------------------------------\u001b[0m",
      "\u001b[0;31mIndexError\u001b[0m                                Traceback (most recent call last)",
      "\u001b[0;32m<ipython-input-8-04b0100afd1f>\u001b[0m in \u001b[0;36m<module>\u001b[0;34m\u001b[0m\n\u001b[1;32m     12\u001b[0m     \u001b[0mpop_copy\u001b[0m \u001b[0;34m=\u001b[0m \u001b[0mpop\u001b[0m\u001b[0;34m.\u001b[0m\u001b[0mcopy\u001b[0m\u001b[0;34m(\u001b[0m\u001b[0;34m)\u001b[0m\u001b[0;34m\u001b[0m\u001b[0m\n\u001b[1;32m     13\u001b[0m     \u001b[0;32mfor\u001b[0m \u001b[0mi\u001b[0m \u001b[0;32min\u001b[0m \u001b[0mrange\u001b[0m\u001b[0;34m(\u001b[0m\u001b[0;36m0\u001b[0m\u001b[0;34m,\u001b[0m\u001b[0mpop\u001b[0m\u001b[0;34m.\u001b[0m\u001b[0mshape\u001b[0m\u001b[0;34m[\u001b[0m\u001b[0;36m0\u001b[0m\u001b[0;34m]\u001b[0m\u001b[0;34m)\u001b[0m\u001b[0;34m:\u001b[0m\u001b[0;34m\u001b[0m\u001b[0m\n\u001b[0;32m---> 14\u001b[0;31m         \u001b[0mpop\u001b[0m\u001b[0;34m[\u001b[0m\u001b[0mi\u001b[0m\u001b[0;34m,\u001b[0m\u001b[0;34m:\u001b[0m\u001b[0;34m]\u001b[0m \u001b[0;34m=\u001b[0m \u001b[0mga\u001b[0m\u001b[0;34m.\u001b[0m\u001b[0mcrossover\u001b[0m\u001b[0;34m(\u001b[0m\u001b[0mpop\u001b[0m\u001b[0;34m[\u001b[0m\u001b[0mi\u001b[0m\u001b[0;34m,\u001b[0m\u001b[0;34m:\u001b[0m\u001b[0;34m]\u001b[0m\u001b[0;34m,\u001b[0m\u001b[0mpop_copy\u001b[0m\u001b[0;34m)\u001b[0m\u001b[0;34m\u001b[0m\u001b[0m\n\u001b[0m\u001b[1;32m     15\u001b[0m \u001b[0;34m\u001b[0m\u001b[0m\n",
      "\u001b[0;32m<ipython-input-7-939da09ca852>\u001b[0m in \u001b[0;36mcrossover\u001b[0;34m(self, parent, pop)\u001b[0m\n\u001b[1;32m     42\u001b[0m             \u001b[0mi_\u001b[0m \u001b[0;34m=\u001b[0m \u001b[0mnp\u001b[0m\u001b[0;34m.\u001b[0m\u001b[0mrandom\u001b[0m\u001b[0;34m.\u001b[0m\u001b[0mrandint\u001b[0m\u001b[0;34m(\u001b[0m\u001b[0;36m0\u001b[0m\u001b[0;34m,\u001b[0m \u001b[0mself\u001b[0m\u001b[0;34m.\u001b[0m\u001b[0mPOP_SIZE\u001b[0m\u001b[0;34m,\u001b[0m \u001b[0msize\u001b[0m\u001b[0;34m=\u001b[0m\u001b[0;36m1\u001b[0m\u001b[0;34m)\u001b[0m \u001b[0;31m# Select another individual from pop\u001b[0m\u001b[0;34m\u001b[0m\u001b[0m\n\u001b[1;32m     43\u001b[0m             \u001b[0mcross_points\u001b[0m \u001b[0;34m=\u001b[0m \u001b[0mnp\u001b[0m\u001b[0;34m.\u001b[0m\u001b[0mrandom\u001b[0m\u001b[0;34m.\u001b[0m\u001b[0mrandint\u001b[0m\u001b[0;34m(\u001b[0m\u001b[0;36m0\u001b[0m\u001b[0;34m,\u001b[0m \u001b[0;36m2\u001b[0m\u001b[0;34m,\u001b[0m \u001b[0msize\u001b[0m\u001b[0;34m=\u001b[0m\u001b[0mself\u001b[0m\u001b[0;34m.\u001b[0m\u001b[0mDNA_SIZE\u001b[0m\u001b[0;34m)\u001b[0m\u001b[0;34m.\u001b[0m\u001b[0mastype\u001b[0m\u001b[0;34m(\u001b[0m\u001b[0mnp\u001b[0m\u001b[0;34m.\u001b[0m\u001b[0mbool\u001b[0m\u001b[0;34m)\u001b[0m \u001b[0;31m# Choose crossover points\u001b[0m\u001b[0;34m\u001b[0m\u001b[0m\n\u001b[0;32m---> 44\u001b[0;31m             \u001b[0mparent\u001b[0m\u001b[0;34m[\u001b[0m\u001b[0mcross_points\u001b[0m\u001b[0;34m]\u001b[0m \u001b[0;34m=\u001b[0m \u001b[0mpop\u001b[0m\u001b[0;34m[\u001b[0m\u001b[0mi_\u001b[0m\u001b[0;34m,\u001b[0m \u001b[0mcross_points\u001b[0m\u001b[0;34m]\u001b[0m \u001b[0;31m# Mating and produce one child\u001b[0m\u001b[0;34m\u001b[0m\u001b[0m\n\u001b[0m\u001b[1;32m     45\u001b[0m         \u001b[0;32mreturn\u001b[0m \u001b[0mparent\u001b[0m\u001b[0;34m\u001b[0m\u001b[0m\n\u001b[1;32m     46\u001b[0m \u001b[0;34m\u001b[0m\u001b[0m\n",
      "\u001b[0;31mIndexError\u001b[0m: boolean index did not match indexed array along dimension 1; dimension is 100 but corresponding boolean dimension is 6"
     ]
    }
   ],
   "source": [
    "'''\n",
    "generate model\n",
    "'''\n",
    "\n",
    "pop = np.random.randint(2, size=(100,arr.shape[1] - 1)) # initialize initial population\n",
    "\n",
    "ga = Genetic_Algorithm(arr, DNA_SIZE = arr.shape[1] - 1)\n",
    "\n",
    "for i in range(0,ga.N_GENERATIONS):\n",
    "    calculated_results = ga.translateDNA(pop)\n",
    "    fitness = ga.get_fitness_one(calculated_results,ga.output_data)\n",
    "    fitness_array = np.transpose(fitness)\n",
    "    print(\"Most fit model:\",pop[np.argmax(fitness),:])\n",
    "    pop = ga.select(pop,fitness)\n",
    "    pop = ga.mutate(pop)\n",
    "    pop_copy = pop.copy()\n",
    "    for i in range(0,pop.shape[0]):\n",
    "        pop[i,:] = ga.crossover(pop[i,:],pop_copy)\n",
    "        "
   ]
  },
  {
   "cell_type": "code",
   "execution_count": null,
   "metadata": {},
   "outputs": [],
   "source": [
    "'''\n",
    "apply model to real-time stock information\n",
    "'''\n"
   ]
  },
  {
   "cell_type": "code",
   "execution_count": null,
   "metadata": {},
   "outputs": [],
   "source": []
  }
 ],
 "metadata": {
  "kernelspec": {
   "display_name": "Python 3",
   "language": "python",
   "name": "python3"
  },
  "language_info": {
   "codemirror_mode": {
    "name": "ipython",
    "version": 3
   },
   "file_extension": ".py",
   "mimetype": "text/x-python",
   "name": "python",
   "nbconvert_exporter": "python",
   "pygments_lexer": "ipython3",
   "version": "3.7.0"
  }
 },
 "nbformat": 4,
 "nbformat_minor": 2
}
