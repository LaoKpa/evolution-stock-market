{
 "cells": [
  {
   "cell_type": "code",
   "execution_count": 9,
   "metadata": {},
   "outputs": [],
   "source": [
    "'''\n",
    "Genetic Algorithm for Stock Market Data\n",
    "Credits to MorvanZhou: https://github.com/yuanlairucisky/MorvanZhou-Evolutionary-Algorithm\n",
    "'''\n",
    "import numpy as np\n",
    "\n",
    "#Define constants for algorithm\n",
    "DNA_SIZE = 10 # Number of input variables\n",
    "POP_SIZE = 100 # Number of models in current generation\n",
    "CROSS_RATE = 0.75 # Porbability of crossover event\n",
    "MUTATION_RATE = 0.01 # Probability of a mutation occuring\n",
    "N_GENERATIONS = 200 # Number of generations in algorithm\n",
    "\n",
    "# Get stock training data\n",
    "train_data = np.zeros((50,DNA_SIZE + 1)) # TODO: Change so we get the actual data\n",
    "input_data = train_data[:,0:DNA_SIZE]\n",
    "output_data = train_data[:,DNA_SIZE:DNA_SIZE + 1]\n",
    "NUM_EXAMPLES = input_data.shape[1]\n",
    "\n",
    "\n",
    "# Find fitness for selection\n",
    "def get_fitness_one(calculated_out, real_out):\n",
    "    reciporocal_reals = 1. / real_out\n",
    "    averaging_factor = 1. / NUM_EXAMPLES\n",
    "    fitness_array = np.absolute(1 - (averaging_factor * np.matmult(calculated_out, reciporacal_reals)))\n",
    "    return fitness_array\n",
    "    \n",
    "# Get predicted values of models\n",
    "def translateDNA(pop):\n",
    "    transposed_input = np.transpose(input_data)\n",
    "    return np.matmult(pop,transposed_input)\n",
    "\n",
    "# Get next generation based on fitness values\n",
    "def select(pop, fitness_array):\n",
    "    selected_indexes = fitness_array.argsort()[-POP_SIZE:][::-1]\n",
    "    selected_pop = pop[fitness_array,:]\n",
    "    return selected_pop\n",
    "\n",
    "# Crossover process\n",
    "def crossover(parent, pop):\n",
    "    if np.random.rand() < CROSS_RATE: # Ensures crossover happens at crossover rate\n",
    "        i_ = np.random.randint(0, POP_SIZE, size=1) # Select another individual from pop\n",
    "        cross_points = np.random.randint(0, 2, size=DNA_SIZE).astype(np.bool) # Choose crossover points\n",
    "        parent[cross_points] = pop[i_, cross_points] # Mating and produce one child\n",
    "    return parent\n",
    "\n",
    "\n",
    "def mutate(pop): # Mutation Process\n",
    "    for child in pop:\n",
    "        for point in range(DNA_SIZE):\n",
    "            if np.random.rand() < MUTATION_RATE: # Ensures mutation happens at mutation rate\n",
    "                if np.random.rand() < 0.5:\n",
    "                    child[point] += 0.5\n",
    "                else:\n",
    "                    child[point] -= 0.5\n",
    "    return pop"
   ]
  },
  {
   "cell_type": "code",
   "execution_count": null,
   "metadata": {},
   "outputs": [],
   "source": []
  },
  {
   "cell_type": "code",
   "execution_count": null,
   "metadata": {},
   "outputs": [],
   "source": []
  }
 ],
 "metadata": {
  "kernelspec": {
   "display_name": "Python 3",
   "language": "python",
   "name": "python3"
  },
  "language_info": {
   "codemirror_mode": {
    "name": "ipython",
    "version": 3
   },
   "file_extension": ".py",
   "mimetype": "text/x-python",
   "name": "python",
   "nbconvert_exporter": "python",
   "pygments_lexer": "ipython3",
   "version": "3.7.1"
  }
 },
 "nbformat": 4,
 "nbformat_minor": 2
}
