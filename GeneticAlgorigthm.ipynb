{
 "cells": [
  {
   "cell_type": "code",
   "execution_count": 2,
   "metadata": {},
   "outputs": [],
   "source": [
    "'''\n",
    "Genetic Algorithm for Stock Market Data\n",
    "Credits to MorvanZhou: https://github.com/yuanlairucisky/MorvanZhou-Evolutionary-Algorithm\n",
    "'''\n",
    "import numpy as np\n",
    "class Genetic_Algorithm:\n",
    "\n",
    "\n",
    "    # Get stock training data\n",
    "    def __init__(self, train_data, DNA_SIZE = 10, POP_SIZE = 100, CROSS_RATE = 0.75, MUTATION_RATE = 0.01, N_GENERATIONS = 200):\n",
    "        #Define constants for algorithm\n",
    "        self.DNA_SIZE = DNA_SIZE # Number of input variables\n",
    "        self.POP_SIZE = POP_SIZE # Number of models in current generation\n",
    "        self.CROSS_RATE = CROSS_RATE # Porbability of crossover event\n",
    "        self.MUTATION_RATE = MUTATION_RATE # Probability of a mutation occuring\n",
    "        self.N_GENERATIONS = N_GENERATIONS # Number of generations in algorithm\n",
    "        self.input_data = train_data[:,0:DNA_SIZE]\n",
    "        self.output_data = train_data[:,DNA_SIZE:DNA_SIZE + 1]\n",
    "        self.NUM_EXAMPLES = input_data.shape[0]\n",
    "\n",
    "    # Find fitness for selection\n",
    "    def get_fitness_one(self,calculated_out, real_out):\n",
    "        reciporocal_reals = 1. / real_out\n",
    "        averaging_factor = 1. / NUM_EXAMPLES\n",
    "        fitness_array = np.absolute(1 - (averaging_factor * np.matmult(calculated_out, reciporacal_reals)))\n",
    "        return fitness_array\n",
    "    \n",
    "    # Get predicted values of models\n",
    "    def translateDNA(self,pop):\n",
    "        transposed_input = np.transpose(input_data)\n",
    "        return np.matmult(pop,transposed_input)\n",
    "\n",
    "    # Get next generation based on fitness values\n",
    "    def select(self,pop, fitness_array):\n",
    "        selected_indexes = fitness_array.argsort()[-POP_SIZE:][::-1]\n",
    "        selected_pop = pop[fitness_array,:]\n",
    "        return selected_pop\n",
    "\n",
    "    # Crossover process\n",
    "    def crossover(self,parent, pop):\n",
    "        if np.random.rand() < CROSS_RATE: # Ensures crossover happens at crossover rate\n",
    "            i_ = np.random.randint(0, POP_SIZE, size=1) # Select another individual from pop\n",
    "            cross_points = np.random.randint(0, 2, size=DNA_SIZE).astype(np.bool) # Choose crossover points\n",
    "            parent[cross_points] = pop[i_, cross_points] # Mating and produce one child\n",
    "        return parent\n",
    "\n",
    "\n",
    "    def mutate(self,pop): # Mutation Process\n",
    "        for child in pop:\n",
    "            for point in range(DNA_SIZE):\n",
    "                if np.random.rand() < MUTATION_RATE: # Ensures mutation happens at mutation rate\n",
    "                    if np.random.rand() < 0.5:\n",
    "                        child[point] += 0.5\n",
    "                    else:\n",
    "                        child[point] -= 0.5\n",
    "        return pop\n"
   ]
  },
  {
   "cell_type": "code",
   "execution_count": null,
   "metadata": {},
   "outputs": [],
   "source": []
  },
  {
   "cell_type": "code",
   "execution_count": null,
   "metadata": {},
   "outputs": [],
   "source": []
  }
 ],
 "metadata": {
  "kernelspec": {
   "display_name": "Python 3",
   "language": "python",
   "name": "python3"
  },
  "language_info": {
   "codemirror_mode": {
    "name": "ipython",
    "version": 3
   },
   "file_extension": ".py",
   "mimetype": "text/x-python",
   "name": "python",
   "nbconvert_exporter": "python",
   "pygments_lexer": "ipython3",
   "version": "3.7.1"
  }
 },
 "nbformat": 4,
 "nbformat_minor": 2
}
